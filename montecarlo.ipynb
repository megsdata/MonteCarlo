{
 "cells": [
  {
   "cell_type": "code",
   "execution_count": 1,
   "metadata": {},
   "outputs": [],
   "source": [
    "#import libraries\n",
    "import matplotlib.pyplot as plt \n",
    "import random"
   ]
  },
  {
   "cell_type": "code",
   "execution_count": 3,
   "metadata": {},
   "outputs": [],
   "source": [
    "#define functions to run the simulation\n",
    "\n",
    "#this function make individual DNA barcodes\n",
    "def makeBarcodes(code_length):\n",
    "  return ''.join(random.choice('ACTG') for _ in range(code_length))\n",
    "\n",
    "#this function pools it into a list\n",
    "def makeBarcodesList(list_length, code_length):\n",
    "  barcodepool = []\n",
    "  for i in range(list_length):\n",
    "    barcodepool.append(makeBarcodes(code_length))\n",
    "  return barcodepool\n",
    "\n",
    "#monte carlo simulation\n",
    "def runMonteCarlo(num_simulations, intended_cells, barcodepool):\n",
    "  nEvent = 0\n",
    "  barcoded = []\n",
    "  for i in range(1, num_simulations):\n",
    "    for j in range(int(intended_cells)):\n",
    "      barcoded.append(random.sample(barcodepool, 1)[0])\n",
    "      singleRepPercent = 1.0 * len([bc for bc in barcoded if barcoded.count(bc) == 1]) / len(barcoded)\n",
    "      if singleRepPercent < .95:\n",
    "          nEvent += 1\n",
    "      if nEvent > .05 * num_simulations:\n",
    "          break\n",
    "  pvalue = 1.0 * nEvent / num_simulations\n",
    "  if pvalue < .05:\n",
    "      print('Sufficient library diversity')\n",
    "  else:\n",
    "      print('Insufficient library diversity')"
   ]
  },
  {
   "cell_type": "code",
   "execution_count": 23,
   "metadata": {},
   "outputs": [
    {
     "name": "stdout",
     "output_type": "stream",
     "text": [
      "Insufficient library diversity\n"
     ]
    }
   ],
   "source": [
    "#run the simulation\n",
    "barcodespool = makeBarcodesList(int(5e5), 35)\n",
    "runMonteCarlo(1000, 5e6, barcodespool) #confidence interval of 95% used for 1000 simulations, 5e6 cells"
   ]
  },
  {
   "cell_type": "code",
   "execution_count": null,
   "metadata": {},
   "outputs": [],
   "source": [
    "#run the simulation\n",
    "barcodespool = makeBarcodesList(int(5e7), 35) #assuming 4x the intended cell # of barcodes\n",
    "runMonteCarlo(1000, 5e6, barcodespool) #confidence interval of 95% used for 1000 simulations, 5e6 cells"
   ]
  },
  {
   "cell_type": "code",
   "execution_count": 4,
   "metadata": {},
   "outputs": [
    {
     "name": "stdout",
     "output_type": "stream",
     "text": [
      "Insufficient library diversity\n"
     ]
    }
   ],
   "source": [
    "#run the simulation\n",
    "barcodespool = makeBarcodesList(int(100), 35) #assuming 4x the intended cell # of barcodes\n",
    "runMonteCarlo(1000, 5e6, barcodespool) #confidence interval of 95% used for 1000 simulations, 5e6 cells"
   ]
  }
 ],
 "metadata": {
  "kernelspec": {
   "display_name": ".venv",
   "language": "python",
   "name": "python3"
  },
  "language_info": {
   "codemirror_mode": {
    "name": "ipython",
    "version": 3
   },
   "file_extension": ".py",
   "mimetype": "text/x-python",
   "name": "python",
   "nbconvert_exporter": "python",
   "pygments_lexer": "ipython3",
   "version": "3.9.16"
  },
  "orig_nbformat": 4
 },
 "nbformat": 4,
 "nbformat_minor": 2
}
