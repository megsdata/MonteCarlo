{
 "cells": [
  {
   "cell_type": "code",
   "execution_count": 26,
   "metadata": {},
   "outputs": [],
   "source": [
    "import pandas as pd\n",
    "import numpy as np\n",
    "import qmcpy\n",
    "import time\n",
    "from numba import jit\n",
    "import matplotlib.pyplot as plt \n",
    "import random"
   ]
  },
  {
   "cell_type": "code",
   "execution_count": 24,
   "metadata": {},
   "outputs": [],
   "source": [
    "#define functions to run the simulation\n",
    "\n",
    "#this function make individual DNA barcodes\n",
    "def makeBarcodes(code_length):\n",
    "  return ''.join(random.choice('ACTG') for _ in range(code_length))\n",
    "\n",
    "#this function pools it into a list\n",
    "def makeBarcodesList(list_length, code_length):\n",
    "  barcodepool = []\n",
    "  for i in range(list_length):\n",
    "    barcodepool.append(makeBarcodes(code_length))\n",
    "  return barcodepool\n",
    "\n",
    "\n",
    "#monte carlo simulation\n",
    "@jit(nopython=True)\n",
    "def runMonteCarlo(num_simulations, intended_cells, barcodepool):\n",
    "  nEvent = 0\n",
    "  barcoded = []\n",
    "  for i in range(1, num_simulations):\n",
    "    for j in range(int(intended_cells)):\n",
    "      barcoded.append(random.sample(barcodepool, 1)[0])\n",
    "      singleRepPercent = 1.0 * len([bc for bc in barcoded if barcoded.count(bc) == 1]) / len(barcoded)\n",
    "      if singleRepPercent < .95:\n",
    "          nEvent += 1\n",
    "      if nEvent > .05 * num_simulations:\n",
    "          break\n",
    "  pvalue = 1.0 * nEvent / num_simulations\n",
    "  if pvalue < .05:\n",
    "      print('Sufficient library diversity')\n",
    "  else:\n",
    "      print('Insufficient library diversity')"
   ]
  },
  {
   "cell_type": "code",
   "execution_count": 25,
   "metadata": {},
   "outputs": [
    {
     "ename": "TypingError",
     "evalue": "Failed in nopython mode pipeline (step: nopython frontend)\nUnknown attribute 'sample' of type Module(<module 'random' from '/opt/homebrew/Cellar/python@3.9/3.9.16/Frameworks/Python.framework/Versions/3.9/lib/python3.9/random.py'>)\n\nFile \"../../../../../../../var/folders/tx/s22c1s691rq4btjxs6l9d6cr0000gn/T/ipykernel_10761/687433445.py\", line 22:\n<source missing, REPL/exec in use?>\n\nDuring: typing of get attribute at /var/folders/tx/s22c1s691rq4btjxs6l9d6cr0000gn/T/ipykernel_10761/687433445.py (22)\n\nFile \"../../../../../../../var/folders/tx/s22c1s691rq4btjxs6l9d6cr0000gn/T/ipykernel_10761/687433445.py\", line 22:\n<source missing, REPL/exec in use?>\n",
     "output_type": "error",
     "traceback": [
      "\u001b[0;31m---------------------------------------------------------------------------\u001b[0m",
      "\u001b[0;31mTypingError\u001b[0m                               Traceback (most recent call last)",
      "Cell \u001b[0;32mIn[25], line 4\u001b[0m\n\u001b[1;32m      1\u001b[0m \u001b[39m#run the simulation\u001b[39;00m\n\u001b[1;32m      2\u001b[0m \u001b[39m#barcodespool = makeBarcodesList(int(5e7), 35) #assuming 4x the intended cell # of barcodes\u001b[39;00m\n\u001b[1;32m      3\u001b[0m barcodespool \u001b[39m=\u001b[39m makeBarcodesList(\u001b[39mint\u001b[39m(\u001b[39m100\u001b[39m), \u001b[39m35\u001b[39m) \u001b[39m#assuming 4x the intended cell # of barcodes\u001b[39;00m\n\u001b[0;32m----> 4\u001b[0m runMonteCarlo(\u001b[39m1000\u001b[39;49m, \u001b[39m5e6\u001b[39;49m, barcodespool) \u001b[39m#confidence interval of 95% used for 1000 simulations, 5e6 cells\u001b[39;00m\n",
      "File \u001b[0;32m~/Library/Mobile Documents/com~apple~CloudDocs/CCF/code/.venv/lib/python3.9/site-packages/numba/core/dispatcher.py:468\u001b[0m, in \u001b[0;36m_DispatcherBase._compile_for_args\u001b[0;34m(self, *args, **kws)\u001b[0m\n\u001b[1;32m    464\u001b[0m         msg \u001b[39m=\u001b[39m (\u001b[39mf\u001b[39m\u001b[39m\"\u001b[39m\u001b[39m{\u001b[39;00m\u001b[39mstr\u001b[39m(e)\u001b[39m.\u001b[39mrstrip()\u001b[39m}\u001b[39;00m\u001b[39m \u001b[39m\u001b[39m\\n\u001b[39;00m\u001b[39m\\n\u001b[39;00m\u001b[39mThis error may have been caused \u001b[39m\u001b[39m\"\u001b[39m\n\u001b[1;32m    465\u001b[0m                \u001b[39mf\u001b[39m\u001b[39m\"\u001b[39m\u001b[39mby the following argument(s):\u001b[39m\u001b[39m\\n\u001b[39;00m\u001b[39m{\u001b[39;00margs_str\u001b[39m}\u001b[39;00m\u001b[39m\\n\u001b[39;00m\u001b[39m\"\u001b[39m)\n\u001b[1;32m    466\u001b[0m         e\u001b[39m.\u001b[39mpatch_message(msg)\n\u001b[0;32m--> 468\u001b[0m     error_rewrite(e, \u001b[39m'\u001b[39;49m\u001b[39mtyping\u001b[39;49m\u001b[39m'\u001b[39;49m)\n\u001b[1;32m    469\u001b[0m \u001b[39mexcept\u001b[39;00m errors\u001b[39m.\u001b[39mUnsupportedError \u001b[39mas\u001b[39;00m e:\n\u001b[1;32m    470\u001b[0m     \u001b[39m# Something unsupported is present in the user code, add help info\u001b[39;00m\n\u001b[1;32m    471\u001b[0m     error_rewrite(e, \u001b[39m'\u001b[39m\u001b[39munsupported_error\u001b[39m\u001b[39m'\u001b[39m)\n",
      "File \u001b[0;32m~/Library/Mobile Documents/com~apple~CloudDocs/CCF/code/.venv/lib/python3.9/site-packages/numba/core/dispatcher.py:409\u001b[0m, in \u001b[0;36m_DispatcherBase._compile_for_args.<locals>.error_rewrite\u001b[0;34m(e, issue_type)\u001b[0m\n\u001b[1;32m    407\u001b[0m     \u001b[39mraise\u001b[39;00m e\n\u001b[1;32m    408\u001b[0m \u001b[39melse\u001b[39;00m:\n\u001b[0;32m--> 409\u001b[0m     \u001b[39mraise\u001b[39;00m e\u001b[39m.\u001b[39mwith_traceback(\u001b[39mNone\u001b[39;00m)\n",
      "\u001b[0;31mTypingError\u001b[0m: Failed in nopython mode pipeline (step: nopython frontend)\nUnknown attribute 'sample' of type Module(<module 'random' from '/opt/homebrew/Cellar/python@3.9/3.9.16/Frameworks/Python.framework/Versions/3.9/lib/python3.9/random.py'>)\n\nFile \"../../../../../../../var/folders/tx/s22c1s691rq4btjxs6l9d6cr0000gn/T/ipykernel_10761/687433445.py\", line 22:\n<source missing, REPL/exec in use?>\n\nDuring: typing of get attribute at /var/folders/tx/s22c1s691rq4btjxs6l9d6cr0000gn/T/ipykernel_10761/687433445.py (22)\n\nFile \"../../../../../../../var/folders/tx/s22c1s691rq4btjxs6l9d6cr0000gn/T/ipykernel_10761/687433445.py\", line 22:\n<source missing, REPL/exec in use?>\n"
     ]
    }
   ],
   "source": [
    "#run the simulation\n",
    "#barcodespool = makeBarcodesList(int(5e7), 35) #assuming 4x the intended cell # of barcodes\n",
    "barcodespool = makeBarcodesList(int(100), 35) #assuming 4x the intended cell # of barcodes\n",
    "runMonteCarlo(1000, 5e6, barcodespool) #confidence interval of 95% used for 1000 simulations, 5e6 cells"
   ]
  },
  {
   "cell_type": "code",
   "execution_count": null,
   "metadata": {},
   "outputs": [],
   "source": [
    "@jit(nopython=True)\n",
    "def go_fast(a): # Function is compiled and runs in machine code\n",
    "    trace = 0.0\n",
    "    for i in range(a.shape[0]):\n",
    "        trace += np.tanh(a[i, i])\n",
    "    return a + trace\n",
    "\n",
    "# DO NOT REPORT THIS... COMPILATION TIME IS INCLUDED IN THE EXECUTION TIME!\n",
    "start = time.time()\n",
    "go_fast(x)\n",
    "end = time.time()\n",
    "print(\"Elapsed (with compilation) = %s\" % (end - start))\n",
    "\n",
    "# NOW THE FUNCTION IS COMPILED, RE-TIME IT EXECUTING FROM CACHE\n",
    "start = time.time()\n",
    "go_fast(x)\n",
    "end = time.time()\n",
    "print(\"Elapsed (after compilation) = %s\" % (end - start))"
   ]
  },
  {
   "cell_type": "code",
   "execution_count": 27,
   "metadata": {},
   "outputs": [],
   "source": [
    "from numba import vectorize, float64\n",
    "@vectorize([float64(float64, float64)])\n",
    "def f(x, y):\n",
    "    return x + y"
   ]
  }
 ],
 "metadata": {
  "kernelspec": {
   "display_name": ".venv",
   "language": "python",
   "name": "python3"
  },
  "language_info": {
   "codemirror_mode": {
    "name": "ipython",
    "version": 3
   },
   "file_extension": ".py",
   "mimetype": "text/x-python",
   "name": "python",
   "nbconvert_exporter": "python",
   "pygments_lexer": "ipython3",
   "version": "3.9.16"
  },
  "orig_nbformat": 4
 },
 "nbformat": 4,
 "nbformat_minor": 2
}
